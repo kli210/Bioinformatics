{
 "cells": [
  {
   "cell_type": "markdown",
   "source": [
    "# Text and Strings - why do they matter?\n",
    "\n",
    "\n",
    "As the name implies, bioinformatics deals with biological information - especially analysis of DNA, RNA and protein sequence. However, the challenges and scientific opportunities for analyzing the information are incredible. \n",
    "\n",
    "In its simplest form we can represent DNA/RNA and protein as text -- either nucleic or amino acids. Each base or amino acid is represented as a single letter (e.g. A/C/G/T for DNA). Stored in the sequence of nucleic and amino acids are all the instructions to create life.\n",
    "\n",
    "Last week we learned that we can use a bit of text or store it as a variable. When you do that, the item in quotes is a particular type of Python object called a `string`. \n",
    "\n",
    "## Types:\n",
    "You'll find that in Python and other languages it is important to categorize different `types` of objects. For example, today we are going to learn about `strings`, `integers` and `lists`. Each of these `types` have different basic properties and abilities -- you can multiply numbers, but it makes no sense to multiply words. You can make a word lower case - but what is the lower case of 13? Get it? \n",
    "\n",
    "### In today's lab we have two main purposes.\n",
    "  1. We will manipulate bits of DNA in text format to do a little bioinformatics \n",
    "  2. Along the way we will learn some basics of Python\n",
    "\n"
   ],
   "metadata": {
    "deletable": false,
    "editable": false,
    "nbgrader": {
     "cell_type": "markdown",
     "checksum": "5c1fc54bffda4560d259676066f6f5ab",
     "grade": false,
     "grade_id": "Read_1",
     "locked": true,
     "schema_version": 3,
     "solution": false
    }
   }
  },
  {
   "cell_type": "markdown",
   "source": [
    "In today's lab each of you are going work on a complete human gene responsible for colour blindness. This gene is pretty big. It's going to be bigger than 'Hello World' - in bioinformatics you'll regularly come across strings that are thousands or millions of characters long. \n",
    "\n",
    "Out of interest here is more info about the gene:\n",
    "\n",
    "[OPN1SW - Accession:NG_009094.1 Colour Blindness](https://ghr.nlm.nih.gov/gene/OPN1SW) \n",
    "\n",
    "\n",
    "### GeneID:  NG_009094.1\n",
    "Homo sapiens opsin 1 (cone pigments), short-wave-sensitive (OPN1SW)\n",
    "Position: chromosome 7\n",
    "\n",
    "### These are the exon boundaries within your gene:\n",
    "Keep in mind that human genes generally contain exons of coding sequence separated by introns that are spliced out after transcription. So the complete gene as it is encoded on the chromosome contains both exons and introns\n",
    "\n",
    "    Exon 1: 1 - 352\n",
    "\tExon 2: 637 - 805\n",
    "\tExon 3: 1128 - 1293\n",
    "\tExon 4: 1903 - 2142\n",
    "\tExon 5: 3132 - 3251\n",
    "\n",
    "### Get your gene\n",
    "To get the complete sequence of your gene run the cell below. The cell contains code that will assign the sequence of the OPN1SW gene to a string called `my_gene`."
   ],
   "metadata": {
    "deletable": false,
    "editable": false,
    "nbgrader": {
     "cell_type": "markdown",
     "checksum": "223ae7aedd5b1c2560e66ec9fdba36c8",
     "grade": false,
     "grade_id": "Read_2",
     "locked": true,
     "schema_version": 3,
     "solution": false
    }
   }
  },
  {
   "cell_type": "code",
   "execution_count": 2,
   "source": [
    "my_gene = \"ATGAGAAAAATGTCGGAGGAAGAGTTTTATCTGTTCAAAAATATCTCTTCAGTGGGGCCGTGGGATGGGCCTCAGTACCACATTGCCCCTGTCTGGGCCTTCTACCTCCAGGCAGCTTTCATGGGCACTGTCTTCCTTATAGGGTTCCCACTCAATGCCATGGTGCTGGTGGCCACACTGCGCTACAAAAAGTTGCGGCAGCCCCTCAACTACATTCTGGTCAACGTGTCCTTCGGAGGCTTCCTCCTCTGCATCTTCTCTGTCTTCCCTGTCTTCGTCGCCAGCTGTAACGGATACTTCGTCTTCGGTCGCCATGTTTGTGCTTTGGAGGGCTTCCTGGGCACTGTAGCAGGTACTGCAGGGGAAAAAGGGGTTAGGGGAAGGCAAAGGTTGCTACTCCACTGGAGGGGGTTCCTAAAGAGGAGTCTGGGGGAAATGAGTCTGGTGCTTTTTAAAATACTGGGGTACAAAGCAACCCAGACTAGAAGTTTGGCTAAAATAGGATGTTTGAGTCTTCACTCCAAATGTCAGTCCAGCCCTGTCTCTCTGTGCTTGCTCCACCCGATCTGTTTGCCACTCTGCCAGCCAGGCTGGGTGGGGCTCTGTCTAGCCCATTATCCTCACATTTCACCACAGGTCTGGTTACAGGATGGTCACTGGCCTTCCTGGCCTTTGAGCGCTACATTGTCATCTGTAAGCCCTTCGGCAACTTCCGCTTCAGCTCCAAGCATGCACTGACGGTGGTCCTGGCTACCTGGACCATTGGTATTGGCGTCTCCATCCCACCCTTCTTTGGCTGGAGCCGGTGAGAGTGCAGGGCAGTGGTGCTGAGTTAACTAGGAGCTCAGGTTGATGTGGGTGGAAAGAGAGCTTGGGTATAACTATTTAGTCTTTGACCTCTACTTTTAAAGAGTTGCAATATGAGGCGAAAGGGCAGTGGGAGACAAGTGCTAACGTTTACTCTGCAGTTGGAATTGCTGTAGCTTCTCCCAGTCAGGACAGAAAACCCCCCTGCTTGAAGCCTTAGGGCATTCCGTGGGTTCTAAGTGGAGAACACAATCCAGGCATCTCAGCTCCCACTGCACTCTTGTGGAGAGTCCAGTGAGCAAGTGTTTGGTCCTTTGCAGGTTCATCCCTGAGGGCCTGCAGTGTTCCTGTGGCCCTGACTGGTACACCGTGGGCACCAAATACCGCAGCGAGTCCTATACGTGGTTCCTCTTCATCTTCTGCTTCATTGTGCCTCTCTCCCTCATCTGCTTCTCCTACACTCAGCTGCTGAGGGCCCTGAAAGCTGTGAGTGGCATTTGATAGTCAGGGAAGAAGGGGTTCGGGGCTCCACATGAGAAGGAAGAGTGCTCTGAAACATAAGATGCCTGGAAATGTCCATAGCCAGAGAGGGTATCTAAAAGCAGCAAAGGAAGTAGGAGGAGGGAGAATGATGGAGATCCAAAGGAACTAGGCCAGGAGATGGGACAGAAAAGAGGCAATCAGAGTGGATGCCCCCTCCCCCATCCCACAGAAAAGCATCCAGAGACCGGGCGCAGTGGCTCACGCCTATAATCCCAGCACTTTGGGAGGCCGAAGCAGACGGATCACCTGAGGTCAATAGTTCCAGACCAGCCTGGCCTACATGGCAAAATGCTAAAATGCGAAAATTAGCTGGGCATGGTGGTGTGTGCTTGTAACCCCAGCTACTCAGGAGGCTGAGACAAAAGAATCACTTGAACCCGGGAGGTGGAGGTTCAGTGAGCCGAGACTGCACCACTGCAACTCCAGCCTGGGCAACAGAGCGAGACTCGGTCTCAAAAAGAAAATTAAAAATTAAAAATTAAAAAAAAAAAAAAAAAGCATCCAGAGGGCCAGGAAAAAGAGAGATGTGATGCTTTCCGTGCTCCACCCCAGGTTGCAGCTCAGCAGCAGGAGTCAGCTACGACCCAGAAGGCTGAACGGGAGGTGAGCCGCATGGTGGTTGTGATGGTAGGATCCTTCTGTGTCTGCTACGTGCCCTACGCGGCCTTCGCCATGTACATGGTCAACAACCGTAACCATGGGCTGGACTTACGGCTTGTCACCATTCCTTCATTCTTCTCCAAGAGTGCTTGCATCTACAATCCCATCATCTACTGCTTCATGAATAAGCAGGTAAAGCTCTTTATTCACATTCCTATGGTCCAGAAGACCCTGGTTCTTTTCTCACCATTGACTTTTAACTCAGAGCACCCTGGACTCTACCCAGGTTTCTAGTAGACGAGGGAAGCCACAAAACCCCCGAGTAGGTTGGGAAGCCTTTGGTAAGCACAGGGAGGAAGGCACGGTTATCAAGACGAGAAAATAGAACCCCGGAGGAAAGAACTTGAGTCAGGAAAATGAAGTTGCTCCAAAGAACAGGATGAATGAAAGCATTTTATTGAAAAACTCGTGCAGCAAACCACCATGGCACACGTTTACCTATGTAACAAACCTGCACATCCTGCACATGTATCCTGGAACTTAAATAAAATTAAAAAAATAAAAATAAAAACTCAGATTCCTCTCAATTTTCAGTCCTTGCATTTAATAATTTCTTAATCATTTCCCTTCCAACTTTTAGCCTGCACGAGCATGTGTGAAGCACAGAAATCATACCACATGCAAAAATCTCTAAAATATCTTATCATCTGAAGGTACTGGGGGATTTCCTATCCCATCTGAAATCCGAGCTAATAAACACCAAACCCTAAGTGGCAAAAACCCTACTTTCAGATGGTATTGTTTCCTCAATCCCAGAGGTAGACTCAAAACTAATTTGAAACCTCCCTGGATAGAAGAGAATTGGCAGTCCTTTCCAGCTGGGAGCACCTGCTAGTAATGGAGGGGCCTCTGCTGACAGTGCTTTTATGAAGCAGGATGGTTTGTGAATTTACCAACAGTGAGGTCTCAGACTTGACCAGTTTAGGATTACCGTAGACCCAGGAGTAGTTCTAGACTGGAATCTAGATAGTTTTCAGGATGGGGAAGATAGATTCAAAACCACCTAAGGGCATTCTGGGTACAAAGCATTGTGCAAGGCTTTGGTGATACAGAGAATAAGGTCTTTTTTCCCATACTTCCTCATCTGCCAAGGTTATCTCCAATTGTACCTTTCTCTCCAGTTCCAAGCTTGCATCATGAAGATGGTGTGTGGGAAGGCCATGACAGATGAATCCGACACATGCAGCTCCCAGAAAACAGAAGTTTCTACTGTCTCGTCTACCCAAGTTGGCCCCAACTGAGGACCCAATATTGGCCTGTTTGCAACAGCTAGAATTAAATTTTACTTTTAA\""
   ],
   "outputs": [],
   "metadata": {
    "deletable": false,
    "editable": false,
    "nbgrader": {
     "cell_type": "code",
     "checksum": "a45e1dfa6ec36ae28446d4db8dd56985",
     "grade": false,
     "grade_id": "Read_3",
     "locked": true,
     "schema_version": 3,
     "solution": false
    }
   }
  },
  {
   "cell_type": "markdown",
   "source": [
    "Create a cell below here and try printing the gene using the `print()` function you learned last week"
   ],
   "metadata": {
    "deletable": false,
    "editable": false,
    "nbgrader": {
     "cell_type": "markdown",
     "checksum": "e75773aac1879382687764f3d7e72f11",
     "grade": false,
     "grade_id": "cell-520e2e19d5ec74ec",
     "locked": true,
     "schema_version": 3,
     "solution": false
    }
   }
  },
  {
   "cell_type": "code",
   "execution_count": 3,
   "source": [
    "print(my_gene)"
   ],
   "outputs": [
    {
     "output_type": "stream",
     "name": "stdout",
     "text": [
      "ATGAGAAAAATGTCGGAGGAAGAGTTTTATCTGTTCAAAAATATCTCTTCAGTGGGGCCGTGGGATGGGCCTCAGTACCACATTGCCCCTGTCTGGGCCTTCTACCTCCAGGCAGCTTTCATGGGCACTGTCTTCCTTATAGGGTTCCCACTCAATGCCATGGTGCTGGTGGCCACACTGCGCTACAAAAAGTTGCGGCAGCCCCTCAACTACATTCTGGTCAACGTGTCCTTCGGAGGCTTCCTCCTCTGCATCTTCTCTGTCTTCCCTGTCTTCGTCGCCAGCTGTAACGGATACTTCGTCTTCGGTCGCCATGTTTGTGCTTTGGAGGGCTTCCTGGGCACTGTAGCAGGTACTGCAGGGGAAAAAGGGGTTAGGGGAAGGCAAAGGTTGCTACTCCACTGGAGGGGGTTCCTAAAGAGGAGTCTGGGGGAAATGAGTCTGGTGCTTTTTAAAATACTGGGGTACAAAGCAACCCAGACTAGAAGTTTGGCTAAAATAGGATGTTTGAGTCTTCACTCCAAATGTCAGTCCAGCCCTGTCTCTCTGTGCTTGCTCCACCCGATCTGTTTGCCACTCTGCCAGCCAGGCTGGGTGGGGCTCTGTCTAGCCCATTATCCTCACATTTCACCACAGGTCTGGTTACAGGATGGTCACTGGCCTTCCTGGCCTTTGAGCGCTACATTGTCATCTGTAAGCCCTTCGGCAACTTCCGCTTCAGCTCCAAGCATGCACTGACGGTGGTCCTGGCTACCTGGACCATTGGTATTGGCGTCTCCATCCCACCCTTCTTTGGCTGGAGCCGGTGAGAGTGCAGGGCAGTGGTGCTGAGTTAACTAGGAGCTCAGGTTGATGTGGGTGGAAAGAGAGCTTGGGTATAACTATTTAGTCTTTGACCTCTACTTTTAAAGAGTTGCAATATGAGGCGAAAGGGCAGTGGGAGACAAGTGCTAACGTTTACTCTGCAGTTGGAATTGCTGTAGCTTCTCCCAGTCAGGACAGAAAACCCCCCTGCTTGAAGCCTTAGGGCATTCCGTGGGTTCTAAGTGGAGAACACAATCCAGGCATCTCAGCTCCCACTGCACTCTTGTGGAGAGTCCAGTGAGCAAGTGTTTGGTCCTTTGCAGGTTCATCCCTGAGGGCCTGCAGTGTTCCTGTGGCCCTGACTGGTACACCGTGGGCACCAAATACCGCAGCGAGTCCTATACGTGGTTCCTCTTCATCTTCTGCTTCATTGTGCCTCTCTCCCTCATCTGCTTCTCCTACACTCAGCTGCTGAGGGCCCTGAAAGCTGTGAGTGGCATTTGATAGTCAGGGAAGAAGGGGTTCGGGGCTCCACATGAGAAGGAAGAGTGCTCTGAAACATAAGATGCCTGGAAATGTCCATAGCCAGAGAGGGTATCTAAAAGCAGCAAAGGAAGTAGGAGGAGGGAGAATGATGGAGATCCAAAGGAACTAGGCCAGGAGATGGGACAGAAAAGAGGCAATCAGAGTGGATGCCCCCTCCCCCATCCCACAGAAAAGCATCCAGAGACCGGGCGCAGTGGCTCACGCCTATAATCCCAGCACTTTGGGAGGCCGAAGCAGACGGATCACCTGAGGTCAATAGTTCCAGACCAGCCTGGCCTACATGGCAAAATGCTAAAATGCGAAAATTAGCTGGGCATGGTGGTGTGTGCTTGTAACCCCAGCTACTCAGGAGGCTGAGACAAAAGAATCACTTGAACCCGGGAGGTGGAGGTTCAGTGAGCCGAGACTGCACCACTGCAACTCCAGCCTGGGCAACAGAGCGAGACTCGGTCTCAAAAAGAAAATTAAAAATTAAAAATTAAAAAAAAAAAAAAAAAGCATCCAGAGGGCCAGGAAAAAGAGAGATGTGATGCTTTCCGTGCTCCACCCCAGGTTGCAGCTCAGCAGCAGGAGTCAGCTACGACCCAGAAGGCTGAACGGGAGGTGAGCCGCATGGTGGTTGTGATGGTAGGATCCTTCTGTGTCTGCTACGTGCCCTACGCGGCCTTCGCCATGTACATGGTCAACAACCGTAACCATGGGCTGGACTTACGGCTTGTCACCATTCCTTCATTCTTCTCCAAGAGTGCTTGCATCTACAATCCCATCATCTACTGCTTCATGAATAAGCAGGTAAAGCTCTTTATTCACATTCCTATGGTCCAGAAGACCCTGGTTCTTTTCTCACCATTGACTTTTAACTCAGAGCACCCTGGACTCTACCCAGGTTTCTAGTAGACGAGGGAAGCCACAAAACCCCCGAGTAGGTTGGGAAGCCTTTGGTAAGCACAGGGAGGAAGGCACGGTTATCAAGACGAGAAAATAGAACCCCGGAGGAAAGAACTTGAGTCAGGAAAATGAAGTTGCTCCAAAGAACAGGATGAATGAAAGCATTTTATTGAAAAACTCGTGCAGCAAACCACCATGGCACACGTTTACCTATGTAACAAACCTGCACATCCTGCACATGTATCCTGGAACTTAAATAAAATTAAAAAAATAAAAATAAAAACTCAGATTCCTCTCAATTTTCAGTCCTTGCATTTAATAATTTCTTAATCATTTCCCTTCCAACTTTTAGCCTGCACGAGCATGTGTGAAGCACAGAAATCATACCACATGCAAAAATCTCTAAAATATCTTATCATCTGAAGGTACTGGGGGATTTCCTATCCCATCTGAAATCCGAGCTAATAAACACCAAACCCTAAGTGGCAAAAACCCTACTTTCAGATGGTATTGTTTCCTCAATCCCAGAGGTAGACTCAAAACTAATTTGAAACCTCCCTGGATAGAAGAGAATTGGCAGTCCTTTCCAGCTGGGAGCACCTGCTAGTAATGGAGGGGCCTCTGCTGACAGTGCTTTTATGAAGCAGGATGGTTTGTGAATTTACCAACAGTGAGGTCTCAGACTTGACCAGTTTAGGATTACCGTAGACCCAGGAGTAGTTCTAGACTGGAATCTAGATAGTTTTCAGGATGGGGAAGATAGATTCAAAACCACCTAAGGGCATTCTGGGTACAAAGCATTGTGCAAGGCTTTGGTGATACAGAGAATAAGGTCTTTTTTCCCATACTTCCTCATCTGCCAAGGTTATCTCCAATTGTACCTTTCTCTCCAGTTCCAAGCTTGCATCATGAAGATGGTGTGTGGGAAGGCCATGACAGATGAATCCGACACATGCAGCTCCCAGAAAACAGAAGTTTCTACTGTCTCGTCTACCCAAGTTGGCCCCAACTGAGGACCCAATATTGGCCTGTTTGCAACAGCTAGAATTAAATTTTACTTTTAA\n"
     ]
    }
   ],
   "metadata": {}
  },
  {
   "cell_type": "markdown",
   "source": [
    "---\n",
    "# Manipulating DNA/Protein sequence as a string\n",
    "---\n",
    "\n",
    "In the next few sections, we are going to go over a few basic ways you can interact with simple sequence data in Python.  The point of this is to teach some relevant functions for dealing with molecular biology sequence, and also to show some fundamentals of Python.\n",
    "\n",
    "\n",
    "---\n",
    "## Find the length of your gene\n",
    "---\n",
    "Another basic function in Python is `len()`, which is used to to find the length of a variable. In this case we are dealing with a type of variable formally called a string - so `len()` will simply return the number of characters in that string.\n",
    "\n",
    "`len()` is a function, like `print()`, but instead of outputting text to the screen, `len()` will output a value that can be stored as a variable – we call this the \"return\" value. In other words, if we write a program that uses `len()` to calculate the length of a string, the program will run and perform that calculation, but we will not see the output of `len()` unless we use the `print()` function.\n",
    "\n",
    "\n",
    "\n",
    "## Exercise 1: Try finding the length of your gene stored in  `my_gene `\n",
    "### Instructions:\n",
    "Store it in a variable called `myGeneLength` and print it:"
   ],
   "metadata": {
    "collapsed": true,
    "deletable": false,
    "editable": false,
    "nbgrader": {
     "cell_type": "markdown",
     "checksum": "52c21d8ee7aa21ecf07d4539d56da34c",
     "grade": false,
     "grade_id": "Read_4",
     "locked": true,
     "schema_version": 3,
     "solution": false
    }
   }
  },
  {
   "cell_type": "code",
   "execution_count": 4,
   "source": [
    "myGeneLength = len(my_gene)\r\n",
    "print(myGeneLength)"
   ],
   "outputs": [
    {
     "output_type": "stream",
     "name": "stdout",
     "text": [
      "3302\n"
     ]
    }
   ],
   "metadata": {
    "deletable": false,
    "nbgrader": {
     "cell_type": "code",
     "checksum": "4936e0ac106287e59341eddf0a138e72",
     "grade": false,
     "grade_id": "ex1_answer",
     "locked": false,
     "schema_version": 3,
     "solution": true
    }
   }
  },
  {
   "cell_type": "markdown",
   "source": [
    "There's another interesting thing about the `len()` function: the result (or return value) is not a string, it's a number. This is a very important idea so I'm going to write it out in bold: **Python treats strings and numbers differently.**\n",
    "\n",
    "Strings are treated as plain text, but numbers have completely difference properties. We know this intuitively - you can not add 2+apple - it makes no sense to you, and it makes no sense to Python! "
   ],
   "metadata": {
    "deletable": false,
    "editable": false,
    "nbgrader": {
     "cell_type": "markdown",
     "checksum": "2ede8c4511208e92c01028a536b5fc90",
     "grade": false,
     "grade_id": "Read_5",
     "locked": true,
     "schema_version": 3,
     "solution": false
    }
   }
  },
  {
   "cell_type": "markdown",
   "source": [
    "---\n",
    "## Extracting DNA sequences from your gene\n",
    "---\n",
    "What do we do if we have a long string, but we only want one portion of it? This is known as taking a substring, and has its own Python notation. To get a substring, we write the variable name followed by a pair of square brackets which enclose a start and stop position, separated by a colon:\n",
    "\n",
    "     [start:stop]\n",
    "\n",
    "Notice that the `start` position is inclusive, but the `stop` position is **exclusive**.\n",
    "\n",
    "## *Let's look at an example:*\n"
   ],
   "metadata": {
    "deletable": false,
    "editable": false,
    "nbgrader": {
     "cell_type": "markdown",
     "checksum": "f4a38f368c78c2858f2c11497b80aaee",
     "grade": false,
     "grade_id": "Read_6",
     "locked": true,
     "schema_version": 3,
     "solution": false
    }
   }
  },
  {
   "cell_type": "code",
   "execution_count": 6,
   "source": [
    "protein = \"vlspadktnv\"\r\n",
    "\r\n",
    "# in Python we start indexing at zero, not one\r\n",
    "print(protein[0:6])\r\n",
    "\r\n",
    "# print positions three to five (not six!)\r\n",
    "print(protein[2:5])\r\n",
    "\r\n",
    "# if you leave out either the start or end coordinate, \r\n",
    "# Python will assume you want to go from the start or to the end\r\n",
    "\r\n",
    "# first four Amino Acids\r\n",
    "print(protein[:4])\r\n",
    "\r\n",
    "# from the 4th to last Amino Acid\r\n",
    "print(protein[3:])"
   ],
   "outputs": [
    {
     "output_type": "stream",
     "name": "stdout",
     "text": [
      "vlspad\n",
      "spa\n",
      "vlsp\n",
      "padktnv\n"
     ]
    }
   ],
   "metadata": {
    "deletable": false,
    "editable": false,
    "nbgrader": {
     "cell_type": "code",
     "checksum": "6ea9da068b1e696c51285af33d5b799a",
     "grade": false,
     "grade_id": "Read_7",
     "locked": true,
     "schema_version": 3,
     "solution": false
    }
   }
  },
  {
   "cell_type": "markdown",
   "source": [
    "There are two important things to notice and remember here:\n",
    "1. Firstly, we actually start counting from position **zero**, rather than one. In other words, position 3 is actually the fourth character. This causes quite a bit of confusion while you're learning but it will help you later on. Look at how this relates to the coordinates above.\n",
    "\n",
    "2. Secondly, the positions are **inclusive** at the start, but **exclusive** at the stop. In other words, the expression protein[2:5] gives us everything starting at the third character, and stopping just before the sixth character. If you're not slightly annoyed at how ridiculous that sounds you're not human - but trust me, you get used to it\n",
    "\n",
    "We can also simply grab a single amino acid from our protein (rather than a whole chunk):"
   ],
   "metadata": {
    "deletable": false,
    "editable": false,
    "nbgrader": {
     "cell_type": "markdown",
     "checksum": "3dc60e3b3c6e5c0bf4f895d4e3bed68a",
     "grade": false,
     "grade_id": "Read_8",
     "locked": true,
     "schema_version": 3,
     "solution": false
    }
   }
  },
  {
   "cell_type": "code",
   "execution_count": 7,
   "source": [
    "# here's our protein again\r\n",
    "print(protein)\r\n",
    "\r\n",
    "# the sixth Amino Acid\r\n",
    "print(protein[5])\r\n",
    "\r\n",
    "# we can count back from the end of the protein using a \"-\" coordinate\r\n",
    "# here is the last Amino Acid\r\n",
    "print(protein[-1])\r\n",
    "\r\n",
    "# here is the 2nd last\r\n",
    "print(protein[-2])\r\n",
    "\r\n",
    "#You can also use this to get things from the end of your string\r\n",
    "# here the last 2 Amino Acids\r\n",
    "print(protein[-2:])\r\n"
   ],
   "outputs": [
    {
     "output_type": "stream",
     "name": "stdout",
     "text": [
      "vlspadktnv\n",
      "d\n",
      "v\n",
      "n\n",
      "nv\n"
     ]
    }
   ],
   "metadata": {
    "deletable": false,
    "editable": false,
    "nbgrader": {
     "cell_type": "code",
     "checksum": "b69fa6a42f58b7680759386d86bdb73c",
     "grade": false,
     "grade_id": "Read_9",
     "locked": true,
     "schema_version": 3,
     "solution": false
    }
   }
  },
  {
   "cell_type": "markdown",
   "source": [
    "## Exercise 2: Extract the first 3 and last 3 nucleotides from your `my_gene` sequence\n",
    "### Instructions:\n",
    "- Store the first 3 in a variable named first_3 \n",
    "- Store the last 3 in a variable named last_3 \n",
    "- **hint:** `print` both to make sure you're right!"
   ],
   "metadata": {
    "deletable": false,
    "editable": false,
    "nbgrader": {
     "cell_type": "markdown",
     "checksum": "965e3b46365beb2531a1bc1bb3a23697",
     "grade": false,
     "grade_id": "Read_10",
     "locked": true,
     "schema_version": 3,
     "solution": false
    }
   }
  },
  {
   "cell_type": "code",
   "execution_count": 34,
   "source": [
    "first_3 = my_gene[:3]\r\n",
    "last_3 = my_gene[-3:]"
   ],
   "outputs": [],
   "metadata": {
    "deletable": false,
    "nbgrader": {
     "cell_type": "code",
     "checksum": "fbd55da4b1cbdb9db00623d5400963ed",
     "grade": false,
     "grade_id": "ex_2_answer",
     "locked": false,
     "schema_version": 3,
     "solution": true
    }
   }
  },
  {
   "cell_type": "markdown",
   "source": [
    "## Concatenation\n",
    "---\n",
    "We can concatenate (stick together) two strings using the `+` symbol. This symbol will join together the string on the left with the string on the right. Here is an example:"
   ],
   "metadata": {
    "deletable": false,
    "editable": false,
    "nbgrader": {
     "cell_type": "markdown",
     "checksum": "30254af0d152dfbecb912d985fa7ccf7",
     "grade": false,
     "grade_id": "Read_11",
     "locked": true,
     "schema_version": 3,
     "solution": false
    }
   }
  },
  {
   "cell_type": "code",
   "execution_count": 11,
   "source": [
    "my_dna = \"AATT\" + \"GGCC\"\r\n",
    "print(my_dna)"
   ],
   "outputs": [
    {
     "output_type": "stream",
     "name": "stdout",
     "text": [
      "AATTGGCC\n"
     ]
    }
   ],
   "metadata": {
    "deletable": false,
    "editable": false,
    "nbgrader": {
     "cell_type": "code",
     "checksum": "2c18f09a7491649f8b98dfa4b4b76a60",
     "grade": false,
     "grade_id": "Read_12",
     "locked": true,
     "schema_version": 3,
     "solution": false
    }
   }
  },
  {
   "cell_type": "markdown",
   "source": [
    "In the above example, the things being concatenated were strings, but members of a concatenation operation can also be variables that point to strings:"
   ],
   "metadata": {
    "deletable": false,
    "editable": false,
    "nbgrader": {
     "cell_type": "markdown",
     "checksum": "80ddf14d3a3c5accb4704470bd3ea4d4",
     "grade": false,
     "grade_id": "Read_13",
     "locked": true,
     "schema_version": 3,
     "solution": false
    }
   }
  },
  {
   "cell_type": "code",
   "execution_count": 12,
   "source": [
    "upstream = \"AAA\"\r\n",
    "my_dna = upstream + \"ATGC\"\r\n",
    "print(my_dna)"
   ],
   "outputs": [
    {
     "output_type": "stream",
     "name": "stdout",
     "text": [
      "AAAATGC\n"
     ]
    }
   ],
   "metadata": {
    "deletable": false,
    "editable": false,
    "nbgrader": {
     "cell_type": "code",
     "checksum": "19911d96def4191b6e95a3aacc825de2",
     "grade": false,
     "grade_id": "Read_14",
     "locked": true,
     "schema_version": 3,
     "solution": false
    }
   }
  },
  {
   "cell_type": "markdown",
   "source": [
    "It's important to realize that the result of concatenating two strings together is itself a string. Thus, it's perfectly OK to use a concatenation inside a `print()` statement. This is one way to make slightly more informative output statements:"
   ],
   "metadata": {
    "deletable": false,
    "editable": false,
    "nbgrader": {
     "cell_type": "markdown",
     "checksum": "a47b8ecda02b628caab4975f43c7b621",
     "grade": false,
     "grade_id": "Read_15",
     "locked": true,
     "schema_version": 3,
     "solution": false
    }
   }
  },
  {
   "cell_type": "code",
   "execution_count": 13,
   "source": [
    "print('My DNA sequence is: ' + my_dna)\r\n"
   ],
   "outputs": [
    {
     "output_type": "stream",
     "name": "stdout",
     "text": [
      "My DNA sequence is: AAAATGC\n"
     ]
    }
   ],
   "metadata": {
    "deletable": false,
    "editable": false,
    "nbgrader": {
     "cell_type": "code",
     "checksum": "ea48d23a459f5f8131a82acf0cb6501d",
     "grade": false,
     "grade_id": "Read_16",
     "locked": true,
     "schema_version": 3,
     "solution": false
    }
   }
  },
  {
   "cell_type": "markdown",
   "source": [
    "## Exercise 3: Concatenate the first 10 bases to the last 10 bases of  `my_gene` sequence\n",
    "\n",
    "### Instructions:\n",
    "- Store the result of the concatenation in a variable named `first_and_last`\n",
    "- store `first_and_last` as a string"
   ],
   "metadata": {
    "deletable": false,
    "editable": false,
    "nbgrader": {
     "cell_type": "markdown",
     "checksum": "85d382d536ac3f1c994a35ff4a1e991e",
     "grade": false,
     "grade_id": "ex3",
     "locked": true,
     "schema_version": 3,
     "solution": false
    }
   }
  },
  {
   "cell_type": "code",
   "execution_count": 37,
   "source": [
    "first_and_last = my_gene[:10] + my_gene[-10:]"
   ],
   "outputs": [],
   "metadata": {
    "deletable": false,
    "nbgrader": {
     "cell_type": "code",
     "checksum": "ad5b740633d4173c30b52b5c050f1d95",
     "grade": false,
     "grade_id": "ex3_answer",
     "locked": false,
     "schema_version": 3,
     "solution": true
    }
   }
  },
  {
   "cell_type": "code",
   "execution_count": 38,
   "source": [
    "print(first_and_last)"
   ],
   "outputs": [
    {
     "output_type": "stream",
     "name": "stdout",
     "text": [
      "ATGAGAAAAATTACTTTTAA\n"
     ]
    }
   ],
   "metadata": {}
  },
  {
   "cell_type": "markdown",
   "source": [
    "## Changing case\n",
    "---\n",
    "We can convert a string to lower case by using a new type of Python operation – a method that belongs to strings. A method is like a function, but instead of being built in to the Python language, it belongs to a particular type. The method in question here is called `lower()`, and belongs to the `string` type. Here's how we use it:"
   ],
   "metadata": {
    "deletable": false,
    "editable": false,
    "nbgrader": {
     "cell_type": "markdown",
     "checksum": "b81f7c598e65660643dc61f22554d8f4",
     "grade": false,
     "grade_id": "Read_18",
     "locked": true,
     "schema_version": 3,
     "solution": false
    }
   }
  },
  {
   "cell_type": "code",
   "execution_count": 16,
   "source": [
    "my_dna = \"ATGC\"\r\n",
    "# print my_dna in lower case\r\n",
    "print(my_dna.lower())"
   ],
   "outputs": [
    {
     "output_type": "stream",
     "name": "stdout",
     "text": [
      "atgc\n"
     ]
    }
   ],
   "metadata": {
    "deletable": false,
    "editable": false,
    "nbgrader": {
     "cell_type": "code",
     "checksum": "717e67619c714baccecd677076ab49c3",
     "grade": false,
     "grade_id": "Read_19",
     "locked": true,
     "schema_version": 3,
     "solution": false
    }
   }
  },
  {
   "cell_type": "markdown",
   "source": [
    "Notice how using a method looks different from using a function. When we use a function like `print()` or `len()`, we write the function name first, and the arguments go in parentheses:"
   ],
   "metadata": {
    "deletable": false,
    "editable": false,
    "nbgrader": {
     "cell_type": "markdown",
     "checksum": "8c710dab5f89243a17c12dead099abb7",
     "grade": false,
     "grade_id": "Read_20",
     "locked": true,
     "schema_version": 3,
     "solution": false
    }
   }
  },
  {
   "cell_type": "code",
   "execution_count": 17,
   "source": [
    "print(\"ATGC\")\r\n",
    "len(my_dna)"
   ],
   "outputs": [
    {
     "output_type": "stream",
     "name": "stdout",
     "text": [
      "ATGC\n"
     ]
    },
    {
     "output_type": "display_data",
     "data": {
      "text/plain": [
       "4"
      ]
     },
     "metadata": {}
    }
   ],
   "metadata": {
    "deletable": false,
    "editable": false,
    "nbgrader": {
     "cell_type": "code",
     "checksum": "6fa86981d6c50e87f77023262eab2036",
     "grade": false,
     "grade_id": "Read_21",
     "locked": true,
     "schema_version": 3,
     "solution": false
    }
   }
  },
  {
   "cell_type": "markdown",
   "source": [
    "When we use a method, we write the name of the object (in our case a string) first, followed by a period, then the name of the method and finally the method arguments in parentheses. For the specific method we're looking at here, `lower()`, there is no argument, so the opening and closing parentheses are right next to each other.\n",
    "\n",
    "\n",
    "It's important to notice that the `lower()` method does not actually change the string object; instead it returns a copy of the variable in lower case. We can prove that it works this way by printing the variable before and after running `lower()`. Here's the code to do so:"
   ],
   "metadata": {
    "deletable": false,
    "editable": false,
    "nbgrader": {
     "cell_type": "markdown",
     "checksum": "5596ee05547d9c588732e1728dccb9ba",
     "grade": false,
     "grade_id": "Read_22",
     "locked": true,
     "schema_version": 3,
     "solution": false
    }
   }
  },
  {
   "cell_type": "code",
   "execution_count": 18,
   "source": [
    "my_dna = \"ATGC\"\r\n",
    "\r\n",
    "# print the variable\r\n",
    "print(\"before: \" + my_dna)\r\n",
    "\r\n",
    "# run the lower method and store the result\r\n",
    "lowercase_dna = my_dna.lower()\r\n",
    "\r\n",
    "# print the variable again (notice my_dna has not changed!)\r\n",
    "print(\"after: \" + my_dna)\r\n",
    "\r\n",
    "# print the new variable\r\n",
    "print(\"new: \" + lowercase_dna)"
   ],
   "outputs": [
    {
     "output_type": "stream",
     "name": "stdout",
     "text": [
      "before: ATGC\n",
      "after: ATGC\n",
      "new: atgc\n"
     ]
    }
   ],
   "metadata": {
    "deletable": false,
    "editable": false,
    "nbgrader": {
     "cell_type": "code",
     "checksum": "485d2b22553a81b1ac64cc26f056bd33",
     "grade": false,
     "grade_id": "Read_23",
     "locked": true,
     "schema_version": 3,
     "solution": false
    }
   }
  },
  {
   "cell_type": "markdown",
   "source": [
    "Just like the `len()` function, in order to actually do anything useful with the `lower()` method, we need to store the result (or print it right away).\n",
    "Because the `lower()` method belongs to the string type, we can only use it on variables that are strings. If we try to use it on a number, for instance, it makes no sense and Python will give you an error- **TRY IT OUT**:"
   ],
   "metadata": {
    "deletable": false,
    "editable": false,
    "nbgrader": {
     "cell_type": "markdown",
     "checksum": "918338d084c0e39f0166f0b08e7329e5",
     "grade": false,
     "grade_id": "Read_24",
     "locked": true,
     "schema_version": 3,
     "solution": false
    }
   }
  },
  {
   "cell_type": "code",
   "execution_count": 21,
   "source": [
    "my_number = len(\"AGTC\")\r\n",
    "# my_number is 4\r\n",
    "print(my_number.lower())"
   ],
   "outputs": [
    {
     "output_type": "error",
     "ename": "AttributeError",
     "evalue": "'int' object has no attribute 'lower'",
     "traceback": [
      "\u001b[0;31m---------------------------------------------------------------------------\u001b[0m\n",
      "\u001b[0;31mAttributeError\u001b[0m                            Traceback (most recent call last)\n",
      "\u001b[0;32m<ipython-input-21-c53a52e51ed2>\u001b[0m in \u001b[0;36m<module>\u001b[0;34m\u001b[0m\n",
      "\u001b[1;32m      1\u001b[0m \u001b[0mmy_number\u001b[0m \u001b[0;34m=\u001b[0m \u001b[0mlen\u001b[0m\u001b[0;34m(\u001b[0m\u001b[0;34m\"AGTC\"\u001b[0m\u001b[0;34m)\u001b[0m\u001b[0;34m\u001b[0m\u001b[0;34m\u001b[0m\u001b[0m\n",
      "\u001b[1;32m      2\u001b[0m \u001b[0;31m# my_number is 4\u001b[0m\u001b[0;34m\u001b[0m\u001b[0;34m\u001b[0m\u001b[0;34m\u001b[0m\u001b[0m\n",
      "\u001b[0;32m----> 3\u001b[0;31m \u001b[0mprint\u001b[0m\u001b[0;34m(\u001b[0m\u001b[0mmy_number\u001b[0m\u001b[0;34m.\u001b[0m\u001b[0mlower\u001b[0m\u001b[0;34m(\u001b[0m\u001b[0;34m)\u001b[0m\u001b[0;34m)\u001b[0m\u001b[0;34m\u001b[0m\u001b[0;34m\u001b[0m\u001b[0m\n",
      "\u001b[0m\n",
      "\u001b[0;31mAttributeError\u001b[0m: 'int' object has no attribute 'lower'"
     ]
    }
   ],
   "metadata": {
    "deletable": false,
    "editable": false,
    "nbgrader": {
     "cell_type": "code",
     "checksum": "1a360665790321d74d12f659a76b61d9",
     "grade": false,
     "grade_id": "Read_25",
     "locked": true,
     "schema_version": 3,
     "solution": false
    }
   }
  },
  {
   "cell_type": "markdown",
   "source": [
    "If you run the block above you will get an error like this:\n",
    "\n",
    "    AttributeError: 'int' object has no attribute 'lower'\n",
    "\n",
    "The error message is a bit cryptic, but hopefully you can grasp the meaning: something that is a number (an `int`, or integer) does not have a `lower()` method. *What is the lower case of 4 ??*\n",
    "\n",
    "This is a good example of the importance of types in Python code: we can only use methods on the type that they belong to. Before we move on, let's just mention that there is another method that belongs to the string type called `upper()` – you can probably guess what it does!"
   ],
   "metadata": {
    "deletable": false,
    "editable": false,
    "nbgrader": {
     "cell_type": "markdown",
     "checksum": "ceef0bf951c568d3c14f91dc45a7a825",
     "grade": false,
     "grade_id": "Read_26",
     "locked": true,
     "schema_version": 3,
     "solution": false
    }
   }
  },
  {
   "cell_type": "markdown",
   "source": [
    "## Counting substrings\n",
    "---\n",
    "A very common task in biology is to count the number of times some pattern occurs in a DNA or protein sequence. In computer programming terms, what that translates to is counting the number of times a substring occurs in a string. The method that does the job is called `count()`. It takes the string you want to count as an argument, and returns the number of times that the argument is found in your variable. The return type is a **number**, so be careful about how you use it!  \n",
    "Let's use our protein sequence one last time as an example. We can use the function `str()` as in `STR`ing to turn the counts that are numbers into strings so that we can concatenate them with other strings."
   ],
   "metadata": {
    "deletable": false,
    "editable": false,
    "nbgrader": {
     "cell_type": "markdown",
     "checksum": "6b0184f69ae865f49b02a0fa7fd23892",
     "grade": false,
     "grade_id": "Read_27",
     "locked": true,
     "schema_version": 3,
     "solution": false
    }
   }
  },
  {
   "cell_type": "code",
   "execution_count": 22,
   "source": [
    "protein = \"vlspadktnv\"\r\n",
    "\r\n",
    "#### count amino acid residues\r\n",
    "valine_count = protein.count('v')\r\n",
    "lsp_count = protein.count('lsp')\r\n",
    "tryptophan_count = protein.count('w')\r\n",
    "\r\n",
    "# now print the counts\r\n",
    "print(\"valines: \" + str(valine_count))\r\n",
    "print(\"lsp: \" + str(lsp_count))\r\n",
    "print(\"tryptophans: \" + str(tryptophan_count))"
   ],
   "outputs": [
    {
     "output_type": "stream",
     "name": "stdout",
     "text": [
      "valines: 2\n",
      "lsp: 1\n",
      "tryptophans: 0\n"
     ]
    }
   ],
   "metadata": {
    "deletable": false,
    "editable": false,
    "nbgrader": {
     "cell_type": "code",
     "checksum": "d1cc7e070a7fea287fe450a8adbad1bc",
     "grade": false,
     "grade_id": "Read_28",
     "locked": true,
     "schema_version": 3,
     "solution": false
    }
   }
  },
  {
   "cell_type": "markdown",
   "source": [
    "# Exercise 4 - Calculate GC content of your gene sequence\n",
    "---\n",
    "A fundamental property of DNA is the relative amount of Guanine and Cytosine vs Adenine and Thymine.   \n",
    "Remember that DNA is double stranded with the A/T and G/C complementary bases. That means that everytime you see a G in one strand there is by definition a C in the other strand and the same is true of A and T. Therefore, the overall GC content of a double stranded bit of DNA is simply the *number of Gs or Cs on one strand divided by the number of A, C, G & Ts.*\n",
    "\n",
    "Calculate the GC content of your gene and print it to the screen\n",
    "\n",
    "Python allows all the basic mathematical operators that you would expect\n",
    " - `+`     add\n",
    " - `-`     subtract\n",
    " - `/`     divide\n",
    " - `*`     multiply\n",
    " - `**`    exponent\n",
    " - `()`    brackets etc\n",
    " \n",
    "HINT: Nucleotides in your `my_gene` sequence are capitalized\n",
    "### Instructions:\n",
    "- Store your calculated GC content as a **percentage** (ie between 0-100 but without the % at the end) in a variable named `GC_content`\n",
    "- store it as a number - not a string\n",
    "- `print` your result if you want to make sure it makes sense!"
   ],
   "metadata": {
    "collapsed": true,
    "deletable": false,
    "editable": false,
    "nbgrader": {
     "cell_type": "markdown",
     "checksum": "9d236d0b97f3db73dee249c84a8ec611",
     "grade": false,
     "grade_id": "Read_29",
     "locked": true,
     "schema_version": 3,
     "solution": false
    }
   }
  },
  {
   "cell_type": "code",
   "execution_count": 5,
   "source": [
    "GC_content = (my_gene.count(\"G\") + my_gene.count(\"C\")) / len(my_gene) * 100\r\n",
    "print(GC_content)"
   ],
   "outputs": [
    {
     "output_type": "stream",
     "name": "stdout",
     "text": [
      "48.576620230163535\n"
     ]
    }
   ],
   "metadata": {
    "deletable": false,
    "nbgrader": {
     "cell_type": "code",
     "checksum": "1de3b5abc657d06263c536ad81a35b28",
     "grade": false,
     "grade_id": "ex4_answer",
     "locked": false,
     "schema_version": 3,
     "solution": true
    }
   }
  },
  {
   "cell_type": "markdown",
   "source": [
    "## Replacement\n",
    "---\n",
    "Another useful method that belongs to the string type is `replace()`. `replace()` is slightly different from anything we've seen before – it takes two arguments (both strings) and returns a copy of the variable where all occurrences of the 1st string are replaced by the 2nd string. Here are a few examples to make things clearer:"
   ],
   "metadata": {
    "deletable": false,
    "editable": false,
    "nbgrader": {
     "cell_type": "markdown",
     "checksum": "21995acc91231d6e47d068d556f467bd",
     "grade": false,
     "grade_id": "Read_30",
     "locked": true,
     "schema_version": 3,
     "solution": false
    }
   }
  },
  {
   "cell_type": "code",
   "execution_count": 30,
   "source": [
    "protein = \"vlspadktnv\"\r\n",
    "\r\n",
    "# Replace all the valines (V) with tyrosines (Y)\r\n",
    "print(protein.replace(\"v\", \"y\"))\r\n",
    "\r\n",
    "# We can replace more than one character\r\n",
    "print(protein.replace(\"vls\", \"ymt\"))\r\n",
    "\r\n",
    "# Note that the original variable (protein) is not affected\r\n",
    "print(protein)"
   ],
   "outputs": [
    {
     "output_type": "stream",
     "name": "stdout",
     "text": [
      "ylspadktny\n",
      "ymtpadktnv\n",
      "vlspadktnv\n"
     ]
    }
   ],
   "metadata": {
    "deletable": false,
    "editable": false,
    "nbgrader": {
     "cell_type": "code",
     "checksum": "ca7924750cd4ecdb4c0a79d55feeb98a",
     "grade": false,
     "grade_id": "Read_31",
     "locked": true,
     "schema_version": 3,
     "solution": false
    }
   }
  },
  {
   "cell_type": "markdown",
   "source": [
    "You can see that all the instances of the first argument are replaced with the second. If you want to keep the output of the `replace()` call, you can store it in a new variable:"
   ],
   "metadata": {
    "deletable": false,
    "editable": false,
    "nbgrader": {
     "cell_type": "markdown",
     "checksum": "e657ebb0b3e9c30eb44eaa664486eb10",
     "grade": false,
     "grade_id": "Read_32",
     "locked": true,
     "schema_version": 3,
     "solution": false
    }
   }
  },
  {
   "cell_type": "code",
   "execution_count": 32,
   "source": [
    "protein = \"vlspadktnv\"\r\n",
    "mutated_protein = protein.replace(\"v\", \"y\")\r\n",
    "print(\"Here is the orginal protein: \"+ protein + \"\\n\" + \"Here is the mutated protein: \" + mutated_protein)"
   ],
   "outputs": [
    {
     "output_type": "stream",
     "name": "stdout",
     "text": [
      "Here is the orginal protein: vlspadktnv\n",
      "Here is the mutated protein: ylspadktny\n"
     ]
    }
   ],
   "metadata": {
    "deletable": false,
    "editable": false,
    "nbgrader": {
     "cell_type": "code",
     "checksum": "ce34c5bbf1301abf9befb4687b949077",
     "grade": false,
     "grade_id": "Read_33",
     "locked": true,
     "schema_version": 3,
     "solution": false
    }
   }
  },
  {
   "cell_type": "markdown",
   "source": [
    "There are two things I want you to note:\n",
    "1.  The replace function is strict - the characters must match exactly and are **case-sensitive**\n",
    "2. In my `print()` call, I introduced a special character \"\\n\". Special characters are notations in Python with pre-defined meaning. In this case \"\\n\", or 'new line', tells Python to include a line break and separates the text over two lines. There are other special characters that can be useful for outputting formatted statements like tab `\\t`\n"
   ],
   "metadata": {
    "deletable": false,
    "editable": false,
    "nbgrader": {
     "cell_type": "markdown",
     "checksum": "9d72a5e24628519b6f0de9928ccc05bd",
     "grade": false,
     "grade_id": "Read_34",
     "locked": true,
     "schema_version": 3,
     "solution": false
    }
   }
  },
  {
   "cell_type": "markdown",
   "source": [
    "# Exercise 5 You're the RNA polymerase!\n",
    "---\n",
    "\n",
    "As most of you will remember, DNA is double-stranded with a two complementary chains of nucleotides. The bases on opposite strands pair in a specific way. Adenine (A) pairs with thymine (T), and cytosine (C) pairs with guanine (G).\n",
    "When we write down a sequence of DNA we pick one of the two strands in a abitrary way. However, there are often times when you want to record the opposite strand also known as the \"complement\". Also - because DNA is replicated from the 5' ([\"five prime\"](https://en.wikipedia.org/wiki/Directionality_(molecular_biology)) to 3' ([\"three prime\"](https://en.wikipedia.org/wiki/Directionality_(molecular_biology)) we also write DNA down in that direction by convention. Therefore to properly record the opposite strand we not only make its complement but we turn it around to make what's called the **reverse complement**.\n",
    "\n",
    "**HINT** - If you want to turn a string backwards, use this syntax:\n",
    "  `my_string[::-1]`\n",
    "\n",
    "### Instructions:\n",
    "- Store your reverse complement of `my_gene` as an *uppercase string* in a variable named `reverse_comp`\n"
   ],
   "metadata": {
    "deletable": false,
    "editable": false,
    "nbgrader": {
     "cell_type": "markdown",
     "checksum": "fc348c08926c08a96c04b07127200310",
     "grade": false,
     "grade_id": "Read_35",
     "locked": true,
     "schema_version": 3,
     "solution": false
    }
   }
  },
  {
   "cell_type": "code",
   "execution_count": 8,
   "source": [
    "reverse_comp = (my_gene.replace('C', '%temp%').replace('G','C').replace('%temp%', 'G').replace('A','%temp%').replace('T', 'A').replace('%temp%','T'))[::-1]\r\n",
    "print(reverse_comp)"
   ],
   "outputs": [
    {
     "output_type": "stream",
     "name": "stdout",
     "text": [
      "TTAAAAGTAAAATTTAATTCTAGCTGTTGCAAACAGGCCAATATTGGGTCCTCAGTTGGGGCCAACTTGGGTAGACGAGACAGTAGAAACTTCTGTTTTCTGGGAGCTGCATGTGTCGGATTCATCTGTCATGGCCTTCCCACACACCATCTTCATGATGCAAGCTTGGAACTGGAGAGAAAGGTACAATTGGAGATAACCTTGGCAGATGAGGAAGTATGGGAAAAAAGACCTTATTCTCTGTATCACCAAAGCCTTGCACAATGCTTTGTACCCAGAATGCCCTTAGGTGGTTTTGAATCTATCTTCCCCATCCTGAAAACTATCTAGATTCCAGTCTAGAACTACTCCTGGGTCTACGGTAATCCTAAACTGGTCAAGTCTGAGACCTCACTGTTGGTAAATTCACAAACCATCCTGCTTCATAAAAGCACTGTCAGCAGAGGCCCCTCCATTACTAGCAGGTGCTCCCAGCTGGAAAGGACTGCCAATTCTCTTCTATCCAGGGAGGTTTCAAATTAGTTTTGAGTCTACCTCTGGGATTGAGGAAACAATACCATCTGAAAGTAGGGTTTTTGCCACTTAGGGTTTGGTGTTTATTAGCTCGGATTTCAGATGGGATAGGAAATCCCCCAGTACCTTCAGATGATAAGATATTTTAGAGATTTTTGCATGTGGTATGATTTCTGTGCTTCACACATGCTCGTGCAGGCTAAAAGTTGGAAGGGAAATGATTAAGAAATTATTAAATGCAAGGACTGAAAATTGAGAGGAATCTGAGTTTTTATTTTTATTTTTTTAATTTTATTTAAGTTCCAGGATACATGTGCAGGATGTGCAGGTTTGTTACATAGGTAAACGTGTGCCATGGTGGTTTGCTGCACGAGTTTTTCAATAAAATGCTTTCATTCATCCTGTTCTTTGGAGCAACTTCATTTTCCTGACTCAAGTTCTTTCCTCCGGGGTTCTATTTTCTCGTCTTGATAACCGTGCCTTCCTCCCTGTGCTTACCAAAGGCTTCCCAACCTACTCGGGGGTTTTGTGGCTTCCCTCGTCTACTAGAAACCTGGGTAGAGTCCAGGGTGCTCTGAGTTAAAAGTCAATGGTGAGAAAAGAACCAGGGTCTTCTGGACCATAGGAATGTGAATAAAGAGCTTTACCTGCTTATTCATGAAGCAGTAGATGATGGGATTGTAGATGCAAGCACTCTTGGAGAAGAATGAAGGAATGGTGACAAGCCGTAAGTCCAGCCCATGGTTACGGTTGTTGACCATGTACATGGCGAAGGCCGCGTAGGGCACGTAGCAGACACAGAAGGATCCTACCATCACAACCACCATGCGGCTCACCTCCCGTTCAGCCTTCTGGGTCGTAGCTGACTCCTGCTGCTGAGCTGCAACCTGGGGTGGAGCACGGAAAGCATCACATCTCTCTTTTTCCTGGCCCTCTGGATGCTTTTTTTTTTTTTTTTTAATTTTTAATTTTTAATTTTCTTTTTGAGACCGAGTCTCGCTCTGTTGCCCAGGCTGGAGTTGCAGTGGTGCAGTCTCGGCTCACTGAACCTCCACCTCCCGGGTTCAAGTGATTCTTTTGTCTCAGCCTCCTGAGTAGCTGGGGTTACAAGCACACACCACCATGCCCAGCTAATTTTCGCATTTTAGCATTTTGCCATGTAGGCCAGGCTGGTCTGGAACTATTGACCTCAGGTGATCCGTCTGCTTCGGCCTCCCAAAGTGCTGGGATTATAGGCGTGAGCCACTGCGCCCGGTCTCTGGATGCTTTTCTGTGGGATGGGGGAGGGGGCATCCACTCTGATTGCCTCTTTTCTGTCCCATCTCCTGGCCTAGTTCCTTTGGATCTCCATCATTCTCCCTCCTCCTACTTCCTTTGCTGCTTTTAGATACCCTCTCTGGCTATGGACATTTCCAGGCATCTTATGTTTCAGAGCACTCTTCCTTCTCATGTGGAGCCCCGAACCCCTTCTTCCCTGACTATCAAATGCCACTCACAGCTTTCAGGGCCCTCAGCAGCTGAGTGTAGGAGAAGCAGATGAGGGAGAGAGGCACAATGAAGCAGAAGATGAAGAGGAACCACGTATAGGACTCGCTGCGGTATTTGGTGCCCACGGTGTACCAGTCAGGGCCACAGGAACACTGCAGGCCCTCAGGGATGAACCTGCAAAGGACCAAACACTTGCTCACTGGACTCTCCACAAGAGTGCAGTGGGAGCTGAGATGCCTGGATTGTGTTCTCCACTTAGAACCCACGGAATGCCCTAAGGCTTCAAGCAGGGGGGTTTTCTGTCCTGACTGGGAGAAGCTACAGCAATTCCAACTGCAGAGTAAACGTTAGCACTTGTCTCCCACTGCCCTTTCGCCTCATATTGCAACTCTTTAAAAGTAGAGGTCAAAGACTAAATAGTTATACCCAAGCTCTCTTTCCACCCACATCAACCTGAGCTCCTAGTTAACTCAGCACCACTGCCCTGCACTCTCACCGGCTCCAGCCAAAGAAGGGTGGGATGGAGACGCCAATACCAATGGTCCAGGTAGCCAGGACCACCGTCAGTGCATGCTTGGAGCTGAAGCGGAAGTTGCCGAAGGGCTTACAGATGACAATGTAGCGCTCAAAGGCCAGGAAGGCCAGTGACCATCCTGTAACCAGACCTGTGGTGAAATGTGAGGATAATGGGCTAGACAGAGCCCCACCCAGCCTGGCTGGCAGAGTGGCAAACAGATCGGGTGGAGCAAGCACAGAGAGACAGGGCTGGACTGACATTTGGAGTGAAGACTCAAACATCCTATTTTAGCCAAACTTCTAGTCTGGGTTGCTTTGTACCCCAGTATTTTAAAAAGCACCAGACTCATTTCCCCCAGACTCCTCTTTAGGAACCCCCTCCAGTGGAGTAGCAACCTTTGCCTTCCCCTAACCCCTTTTTCCCCTGCAGTACCTGCTACAGTGCCCAGGAAGCCCTCCAAAGCACAAACATGGCGACCGAAGACGAAGTATCCGTTACAGCTGGCGACGAAGACAGGGAAGACAGAGAAGATGCAGAGGAGGAAGCCTCCGAAGGACACGTTGACCAGAATGTAGTTGAGGGGCTGCCGCAACTTTTTGTAGCGCAGTGTGGCCACCAGCACCATGGCATTGAGTGGGAACCCTATAAGGAAGACAGTGCCCATGAAAGCTGCCTGGAGGTAGAAGGCCCAGACAGGGGCAATGTGGTACTGAGGCCCATCCCACGGCCCCACTGAAGAGATATTTTTGAACAGATAAAACTCTTCCTCCGACATTTTTCTCAT\n"
     ]
    }
   ],
   "metadata": {
    "deletable": false,
    "nbgrader": {
     "cell_type": "code",
     "checksum": "05e6262ba904ea4fb51bade699bd7921",
     "grade": false,
     "grade_id": "ex5_answer",
     "locked": false,
     "schema_version": 3,
     "solution": true
    }
   }
  },
  {
   "cell_type": "code",
   "execution_count": 4,
   "source": [
    "# or an alternative method:\r\n",
    "reverse_comp = (my_gene.replace('A', 't').replace('T', 'a').replace('G', 'c').replace('C', 'g')[::-1]).upper()\r\n",
    "print(reverse_comp)"
   ],
   "outputs": [
    {
     "output_type": "stream",
     "name": "stdout",
     "text": [
      "TTAAAAGTAAAATTTAATTCTAGCTGTTGCAAACAGGCCAATATTGGGTCCTCAGTTGGGGCCAACTTGGGTAGACGAGACAGTAGAAACTTCTGTTTTCTGGGAGCTGCATGTGTCGGATTCATCTGTCATGGCCTTCCCACACACCATCTTCATGATGCAAGCTTGGAACTGGAGAGAAAGGTACAATTGGAGATAACCTTGGCAGATGAGGAAGTATGGGAAAAAAGACCTTATTCTCTGTATCACCAAAGCCTTGCACAATGCTTTGTACCCAGAATGCCCTTAGGTGGTTTTGAATCTATCTTCCCCATCCTGAAAACTATCTAGATTCCAGTCTAGAACTACTCCTGGGTCTACGGTAATCCTAAACTGGTCAAGTCTGAGACCTCACTGTTGGTAAATTCACAAACCATCCTGCTTCATAAAAGCACTGTCAGCAGAGGCCCCTCCATTACTAGCAGGTGCTCCCAGCTGGAAAGGACTGCCAATTCTCTTCTATCCAGGGAGGTTTCAAATTAGTTTTGAGTCTACCTCTGGGATTGAGGAAACAATACCATCTGAAAGTAGGGTTTTTGCCACTTAGGGTTTGGTGTTTATTAGCTCGGATTTCAGATGGGATAGGAAATCCCCCAGTACCTTCAGATGATAAGATATTTTAGAGATTTTTGCATGTGGTATGATTTCTGTGCTTCACACATGCTCGTGCAGGCTAAAAGTTGGAAGGGAAATGATTAAGAAATTATTAAATGCAAGGACTGAAAATTGAGAGGAATCTGAGTTTTTATTTTTATTTTTTTAATTTTATTTAAGTTCCAGGATACATGTGCAGGATGTGCAGGTTTGTTACATAGGTAAACGTGTGCCATGGTGGTTTGCTGCACGAGTTTTTCAATAAAATGCTTTCATTCATCCTGTTCTTTGGAGCAACTTCATTTTCCTGACTCAAGTTCTTTCCTCCGGGGTTCTATTTTCTCGTCTTGATAACCGTGCCTTCCTCCCTGTGCTTACCAAAGGCTTCCCAACCTACTCGGGGGTTTTGTGGCTTCCCTCGTCTACTAGAAACCTGGGTAGAGTCCAGGGTGCTCTGAGTTAAAAGTCAATGGTGAGAAAAGAACCAGGGTCTTCTGGACCATAGGAATGTGAATAAAGAGCTTTACCTGCTTATTCATGAAGCAGTAGATGATGGGATTGTAGATGCAAGCACTCTTGGAGAAGAATGAAGGAATGGTGACAAGCCGTAAGTCCAGCCCATGGTTACGGTTGTTGACCATGTACATGGCGAAGGCCGCGTAGGGCACGTAGCAGACACAGAAGGATCCTACCATCACAACCACCATGCGGCTCACCTCCCGTTCAGCCTTCTGGGTCGTAGCTGACTCCTGCTGCTGAGCTGCAACCTGGGGTGGAGCACGGAAAGCATCACATCTCTCTTTTTCCTGGCCCTCTGGATGCTTTTTTTTTTTTTTTTTAATTTTTAATTTTTAATTTTCTTTTTGAGACCGAGTCTCGCTCTGTTGCCCAGGCTGGAGTTGCAGTGGTGCAGTCTCGGCTCACTGAACCTCCACCTCCCGGGTTCAAGTGATTCTTTTGTCTCAGCCTCCTGAGTAGCTGGGGTTACAAGCACACACCACCATGCCCAGCTAATTTTCGCATTTTAGCATTTTGCCATGTAGGCCAGGCTGGTCTGGAACTATTGACCTCAGGTGATCCGTCTGCTTCGGCCTCCCAAAGTGCTGGGATTATAGGCGTGAGCCACTGCGCCCGGTCTCTGGATGCTTTTCTGTGGGATGGGGGAGGGGGCATCCACTCTGATTGCCTCTTTTCTGTCCCATCTCCTGGCCTAGTTCCTTTGGATCTCCATCATTCTCCCTCCTCCTACTTCCTTTGCTGCTTTTAGATACCCTCTCTGGCTATGGACATTTCCAGGCATCTTATGTTTCAGAGCACTCTTCCTTCTCATGTGGAGCCCCGAACCCCTTCTTCCCTGACTATCAAATGCCACTCACAGCTTTCAGGGCCCTCAGCAGCTGAGTGTAGGAGAAGCAGATGAGGGAGAGAGGCACAATGAAGCAGAAGATGAAGAGGAACCACGTATAGGACTCGCTGCGGTATTTGGTGCCCACGGTGTACCAGTCAGGGCCACAGGAACACTGCAGGCCCTCAGGGATGAACCTGCAAAGGACCAAACACTTGCTCACTGGACTCTCCACAAGAGTGCAGTGGGAGCTGAGATGCCTGGATTGTGTTCTCCACTTAGAACCCACGGAATGCCCTAAGGCTTCAAGCAGGGGGGTTTTCTGTCCTGACTGGGAGAAGCTACAGCAATTCCAACTGCAGAGTAAACGTTAGCACTTGTCTCCCACTGCCCTTTCGCCTCATATTGCAACTCTTTAAAAGTAGAGGTCAAAGACTAAATAGTTATACCCAAGCTCTCTTTCCACCCACATCAACCTGAGCTCCTAGTTAACTCAGCACCACTGCCCTGCACTCTCACCGGCTCCAGCCAAAGAAGGGTGGGATGGAGACGCCAATACCAATGGTCCAGGTAGCCAGGACCACCGTCAGTGCATGCTTGGAGCTGAAGCGGAAGTTGCCGAAGGGCTTACAGATGACAATGTAGCGCTCAAAGGCCAGGAAGGCCAGTGACCATCCTGTAACCAGACCTGTGGTGAAATGTGAGGATAATGGGCTAGACAGAGCCCCACCCAGCCTGGCTGGCAGAGTGGCAAACAGATCGGGTGGAGCAAGCACAGAGAGACAGGGCTGGACTGACATTTGGAGTGAAGACTCAAACATCCTATTTTAGCCAAACTTCTAGTCTGGGTTGCTTTGTACCCCAGTATTTTAAAAAGCACCAGACTCATTTCCCCCAGACTCCTCTTTAGGAACCCCCTCCAGTGGAGTAGCAACCTTTGCCTTCCCCTAACCCCTTTTTCCCCTGCAGTACCTGCTACAGTGCCCAGGAAGCCCTCCAAAGCACAAACATGGCGACCGAAGACGAAGTATCCGTTACAGCTGGCGACGAAGACAGGGAAGACAGAGAAGATGCAGAGGAGGAAGCCTCCGAAGGACACGTTGACCAGAATGTAGTTGAGGGGCTGCCGCAACTTTTTGTAGCGCAGTGTGGCCACCAGCACCATGGCATTGAGTGGGAACCCTATAAGGAAGACAGTGCCCATGAAAGCTGCCTGGAGGTAGAAGGCCCAGACAGGGGCAATGTGGTACTGAGGCCCATCCCACGGCCCCACTGAAGAGATATTTTTGAACAGATAAAACTCTTCCTCCGACATTTTTCTCAT\n"
     ]
    }
   ],
   "metadata": {}
  },
  {
   "cell_type": "markdown",
   "source": [
    "## Finding substrings\n",
    "---\n",
    "A closely-related problem to counting substrings is finding their location. What if instead of counting the number of proline residues in our protein sequence, we want to know where they are? The `find()` method will give us the answer, at least for simple cases. `find()` takes a single string argument, just like `count()`, and returns a number which is the index position at which that substring *first* appears in the string (in computing, we call that the index of the substring).\n",
    "\n",
    "Remember that in Python, we start counting from zero rather than one, so position 0 is the 1st character, position 4 is the 5th character, etc. A couple of examples:"
   ],
   "metadata": {
    "deletable": false,
    "editable": false,
    "nbgrader": {
     "cell_type": "markdown",
     "checksum": "74c22652e39c5857a37d84bd897f6d61",
     "grade": false,
     "grade_id": "Read_36",
     "locked": true,
     "schema_version": 3,
     "solution": false
    }
   }
  },
  {
   "cell_type": "code",
   "execution_count": 54,
   "source": [
    "protein = \"vlspadktnv\"\r\n",
    "\r\n",
    "print(protein.find('v'))\r\n",
    "print(protein.find('kt'))\r\n",
    "print(protein.find('w'))\r\n"
   ],
   "outputs": [
    {
     "output_type": "stream",
     "name": "stdout",
     "text": [
      "0\n",
      "6\n",
      "-1\n"
     ]
    }
   ],
   "metadata": {
    "deletable": false,
    "editable": false,
    "nbgrader": {
     "cell_type": "code",
     "checksum": "b13e4d125ab247d4de446d05f5a20079",
     "grade": false,
     "grade_id": "Read_37",
     "locked": true,
     "schema_version": 3,
     "solution": false
    }
   }
  },
  {
   "cell_type": "markdown",
   "source": [
    "Notice the behaviour of `find()` when we ask it to locate a substring that doesn't exist – we get back -1.\n",
    "Both `count()` and `find()` and `replace()` have a pretty serious limitation: you can only search for exact substrings. If you need to count the number of occurrences of a protein motif with slight variations they will not help you - but there are other tools that we will learn later to help with that!\n",
    "\n",
    "Of the tools we've discussed in this section, three – `replace()`, `count()` and `find()` – require at least two strings to work, so be careful because the **order matters!** – remember that:\n",
    "\n",
    "    my_dna.count(my_motif)\n",
    "is not the same as:\n",
    "\n",
    "    my_motif.count(my_dna)"
   ],
   "metadata": {
    "deletable": false,
    "editable": false,
    "nbgrader": {
     "cell_type": "markdown",
     "checksum": "7cca1db9c2da36195f7c163f002f2d64",
     "grade": false,
     "grade_id": "Read_40",
     "locked": true,
     "schema_version": 3,
     "solution": false
    }
   }
  },
  {
   "cell_type": "markdown",
   "source": [
    "# Exercise 6 - Restriction Fragments\n",
    "\n",
    "A [restriction enzyme](https://en.wikipedia.org/wiki/Restriction_enzyme) is a protein that recognizes a particular sequence of DNA and cleaves the DNA at that site. These enzymes are sometimes used in defense of host cells against viral DNA. \n",
    "\n",
    "In this exercise, you will digitally cut your gene using a restriction enzyme that recognizes the site `CCATGG` and cuts the DNA in the middle of the site (ie CCA/TGG blunt end cutter) \n",
    "\n",
    "## Exercise 6A - Find the position of the first restriction site in your `my_gene` sequence\n",
    "### Instructions:\n",
    "- Store the position as a number in a variable named `first_site`\n"
   ],
   "metadata": {
    "deletable": false,
    "editable": false,
    "nbgrader": {
     "cell_type": "markdown",
     "checksum": "f7853f43a6910196ec6d73cfed260dcc",
     "grade": false,
     "grade_id": "Read_41",
     "locked": true,
     "schema_version": 3,
     "solution": false
    }
   }
  },
  {
   "cell_type": "code",
   "execution_count": 55,
   "source": [
    "first_site = my_gene.find(\"CCATGG\")\r\n",
    "print(first_site)"
   ],
   "outputs": [
    {
     "output_type": "stream",
     "name": "stdout",
     "text": [
      "157\n"
     ]
    }
   ],
   "metadata": {
    "deletable": false,
    "nbgrader": {
     "cell_type": "code",
     "checksum": "4c2b7727b35536bd987b0cf65f1ec924",
     "grade": false,
     "grade_id": "ex6a_answer",
     "locked": false,
     "schema_version": 3,
     "solution": true
    }
   }
  },
  {
   "cell_type": "markdown",
   "source": [
    "## Exercise 6B - In the lab you need to PCR amplify your gene and then digest it with the same restriction enzyme. When you run the digested DNA on a gel, how many bands will you see? \n",
    "\n",
    "### Instructions:\n",
    "- Store the number of bands as a number in a variable named `number_of_bands`\n"
   ],
   "metadata": {
    "deletable": false,
    "editable": false,
    "nbgrader": {
     "cell_type": "markdown",
     "checksum": "a56fe3b558159afad9e8ab2f4f03c041",
     "grade": false,
     "grade_id": "Read_41B",
     "locked": true,
     "schema_version": 3,
     "solution": false
    }
   }
  },
  {
   "cell_type": "code",
   "execution_count": 59,
   "source": [
    "number_of_bands = my_gene.count(\"CCATGG\") + 1\r\n",
    "print(number_of_bands)"
   ],
   "outputs": [
    {
     "output_type": "stream",
     "name": "stdout",
     "text": [
      "4\n"
     ]
    }
   ],
   "metadata": {
    "deletable": false,
    "nbgrader": {
     "cell_type": "code",
     "checksum": "0821a0430051fab611fe38f92f466347",
     "grade": false,
     "grade_id": "ex6b_answer",
     "locked": false,
     "schema_version": 3,
     "solution": true
    }
   }
  },
  {
   "cell_type": "markdown",
   "source": [
    "# Lists and Loops\n",
    "---\n",
    "A very common situation in biological research is to have a large collection of data  that all need to be processed in the same way. In this lab, we're going to learn some fundamental tools to get the computer to do all that repetitive work.\n",
    "\n",
    "Last week we learned about strings and numbers – both of which store a single piece of information. When we needed to store multiple pieces of information (e.g. intron-exon boundaries) we just created more variables to hold them. This approach is fine with small amounts of information, but as the number of variables grows it becomes totally unmanageable to code with thousands or millions of them in your workspace. It is also error-prone, meaning your research suffers. To solve this issue, there is a very intuitive type of object known as a `list`, which allows you to store multiple pieces of information together in a single variable.\n",
    "\n",
    "\n",
    "In addition if you've ever found yourself repeating the same task over and over and over again, it makes a lot more sense to create a program that can repeat that task for you. This type of repeating computer code is called a loop and makes repetitive tasks fast and easy. In this class we are going to learn about a common and very powerful type of loop called a `for` loop"
   ],
   "metadata": {
    "deletable": false,
    "editable": false,
    "nbgrader": {
     "cell_type": "markdown",
     "checksum": "e6407decee221f246fcc1e9cd3fa262d",
     "grade": false,
     "grade_id": "Read_42",
     "locked": true,
     "schema_version": 3,
     "solution": false
    }
   }
  },
  {
   "cell_type": "markdown",
   "source": [
    "## Lists\n",
    "---\n",
    "Lists are just that, lists. You can hold multiple values and many different types of data in a list and they are kept in order. The whole list is then given a variable name so you can use it later in your code. To make a new list we put things inside **square brackets**, separated by commas:"
   ],
   "metadata": {
    "deletable": false,
    "editable": false,
    "nbgrader": {
     "cell_type": "markdown",
     "checksum": "ae346b6b8c53331a693b6802c127a49f",
     "grade": false,
     "grade_id": "Read_43",
     "locked": true,
     "schema_version": 3,
     "solution": false
    }
   }
  },
  {
   "cell_type": "code",
   "execution_count": 63,
   "source": [
    "apes = [\"Homo sapiens\", \"Pan troglodytes\", \"Gorilla gorilla\"]\r\n",
    "conserved_sites = [24, 56, 132]"
   ],
   "outputs": [],
   "metadata": {
    "deletable": false,
    "editable": false,
    "nbgrader": {
     "cell_type": "code",
     "checksum": "5822d408ca95ab3da18a23b2bd8382b4",
     "grade": false,
     "grade_id": "Read_44",
     "locked": true,
     "schema_version": 3,
     "solution": false
    }
   }
  },
  {
   "cell_type": "markdown",
   "source": [
    "Each comma-separated item in a list is called an `element`. Similar to a string we can extract a elements from the list using the name of the list and the position or `index` of the element you want in square brackets:"
   ],
   "metadata": {
    "deletable": false,
    "editable": false,
    "nbgrader": {
     "cell_type": "markdown",
     "checksum": "a14ed9e32f696b22b53efcd7e0f3563f",
     "grade": false,
     "grade_id": "Read_45",
     "locked": true,
     "schema_version": 3,
     "solution": false
    }
   }
  },
  {
   "cell_type": "code",
   "execution_count": 62,
   "source": [
    "apes = [\"Homo sapiens\", \"Pan troglodytes\", \"Gorilla gorilla\"]\r\n",
    "print(apes[1])"
   ],
   "outputs": [
    {
     "output_type": "stream",
     "name": "stdout",
     "text": [
      "Pan troglodytes\n"
     ]
    }
   ],
   "metadata": {
    "deletable": false,
    "editable": false,
    "nbgrader": {
     "cell_type": "code",
     "checksum": "9ac57918f20e8f04c5eef098d61b2e96",
     "grade": false,
     "grade_id": "Read_46",
     "locked": true,
     "schema_version": 3,
     "solution": false
    }
   }
  },
  {
   "cell_type": "markdown",
   "source": [
    "Note that when you select one element it returns that element alone, but similar to substrings, you can ask for a range of the elements within the list and Python gives you a subset back as a new list. This operation is also known as slicing a list (since you're taking a 'slice' of it):\n"
   ],
   "metadata": {
    "deletable": false,
    "editable": false,
    "nbgrader": {
     "cell_type": "markdown",
     "checksum": "f623a743ad6d8268a505407336c34814",
     "grade": false,
     "grade_id": "Read_48",
     "locked": true,
     "schema_version": 3,
     "solution": false
    }
   }
  },
  {
   "cell_type": "code",
   "execution_count": 61,
   "source": [
    "apes = [\"Homo sapiens\", \"Pan troglodytes\", \"Gorilla gorilla\"]\r\n",
    "# first and second element, recall the second bound is exclusive!\r\n",
    "print(apes[0:2])"
   ],
   "outputs": [
    {
     "output_type": "stream",
     "name": "stdout",
     "text": [
      "['Homo sapiens', 'Pan troglodytes']\n"
     ]
    }
   ],
   "metadata": {
    "deletable": false,
    "editable": false,
    "nbgrader": {
     "cell_type": "code",
     "checksum": "2939cfed341936861b8583d8dd824b19",
     "grade": false,
     "grade_id": "Read_49",
     "locked": true,
     "schema_version": 3,
     "solution": false
    }
   }
  },
  {
   "cell_type": "markdown",
   "source": [
    "There are a few other convenient features:"
   ],
   "metadata": {
    "deletable": false,
    "editable": false,
    "nbgrader": {
     "cell_type": "markdown",
     "checksum": "593df2df4e4dbca3900a15169ca0b940",
     "grade": false,
     "grade_id": "Read_50",
     "locked": true,
     "schema_version": 3,
     "solution": false
    }
   }
  },
  {
   "cell_type": "code",
   "execution_count": 64,
   "source": [
    "apes = [\"Homo sapiens\", \"Pan troglodytes\", \"Gorilla gorilla\"]\r\n",
    "\r\n",
    "# find the index of a specific element\r\n",
    "print(apes.index(\"Homo sapiens\"))\r\n",
    "\r\n",
    "#find the length of a list\r\n",
    "print(len(apes))\r\n",
    "\r\n",
    "# add to the end of a list\r\n",
    "apes.append(\"Pan paniscus\")\r\n",
    "print(apes)\r\n",
    "\r\n",
    "# concatenate lists\r\n",
    "monkeys = [\"Papio ursinus\", \"Macaca mulatta\"]\r\n",
    "primates = apes + monkeys\r\n",
    "print(primates)"
   ],
   "outputs": [
    {
     "output_type": "stream",
     "name": "stdout",
     "text": [
      "0\n",
      "3\n",
      "['Homo sapiens', 'Pan troglodytes', 'Gorilla gorilla', 'Pan paniscus']\n",
      "['Homo sapiens', 'Pan troglodytes', 'Gorilla gorilla', 'Pan paniscus', 'Papio ursinus', 'Macaca mulatta']\n"
     ]
    }
   ],
   "metadata": {
    "deletable": false,
    "editable": false,
    "nbgrader": {
     "cell_type": "code",
     "checksum": "39725d6dec9e23357054b0a5be898e97",
     "grade": false,
     "grade_id": "Read_51",
     "locked": true,
     "schema_version": 3,
     "solution": false
    }
   }
  },
  {
   "cell_type": "markdown",
   "source": [
    "Lists have some special methods of their own like `sort()` and `reverse()`. The interesting thing about these methods is that unlike with strings, when you call them the list _is altered in place_, and the old unsorted list is gone:\n"
   ],
   "metadata": {
    "deletable": false,
    "editable": false,
    "nbgrader": {
     "cell_type": "markdown",
     "checksum": "95b683591c6b7c5b3fac70ede5706384",
     "grade": false,
     "grade_id": "Read_52",
     "locked": true,
     "schema_version": 3,
     "solution": false
    }
   }
  },
  {
   "cell_type": "code",
   "execution_count": 6,
   "source": [
    "apes = [\"Homo sapiens\", \"Pan troglodytes\", \"Gorilla gorilla\"]\r\n",
    "print(\"apes before sort:\"+str(apes))\r\n",
    "#now sort apes \r\n",
    "apes.sort()\r\n",
    "print(\"apes after sort:\"+str(apes))\r\n",
    "\r\n",
    "# similarly you can turn a list backwards\r\n",
    "apes.reverse()\r\n",
    "print(\"reversed apes:\"+str(apes))"
   ],
   "outputs": [
    {
     "output_type": "stream",
     "name": "stdout",
     "text": [
      "apes before sort:['Homo sapiens', 'Pan troglodytes', 'Gorilla gorilla']\n",
      "apes after sort:['Gorilla gorilla', 'Homo sapiens', 'Pan troglodytes']\n",
      "reversed apes:['Pan troglodytes', 'Homo sapiens', 'Gorilla gorilla']\n"
     ]
    }
   ],
   "metadata": {
    "deletable": false,
    "editable": false,
    "nbgrader": {
     "cell_type": "code",
     "checksum": "ebd2143289b189a187374612ae67c892",
     "grade": false,
     "grade_id": "Read_53",
     "locked": true,
     "schema_version": 3,
     "solution": false
    }
   }
  },
  {
   "cell_type": "markdown",
   "source": [
    "## Here are each of the five exons from `my_gene` stored as lists"
   ],
   "metadata": {
    "deletable": false,
    "editable": false,
    "nbgrader": {
     "cell_type": "markdown",
     "checksum": "490610dee21cf9e0abf8e0171d08fca9",
     "grade": false,
     "grade_id": "Read_54",
     "locked": true,
     "schema_version": 3,
     "solution": false
    }
   }
  },
  {
   "cell_type": "code",
   "execution_count": 16,
   "source": [
    "Exon_1 = [1, 352]\r\n",
    "Exon_2 = [637, 805]\r\n",
    "Exon_3 = [1128, 1293]\r\n",
    "Exon_4 = [1903, 2142]\r\n",
    "Exon_5 = [3132, 3251]"
   ],
   "outputs": [],
   "metadata": {
    "deletable": false,
    "editable": false,
    "nbgrader": {
     "cell_type": "code",
     "checksum": "16cb8814e4037abf933d6330731d5858",
     "grade": false,
     "grade_id": "individual_exons",
     "locked": true,
     "schema_version": 3,
     "solution": false
    }
   }
  },
  {
   "cell_type": "markdown",
   "source": [
    "## Exercise 7: Store each of those exon lists in a single larger list named `exons`\n",
    "\n",
    "This kind of list is a little bit of a mind warp! Python is very flexible when it comes to storing information in lists, meaning that you can have lists of strings, lists of numbers, lists of lists - or even mixed lists of strings, numbers or lists all in one.\n",
    "\n",
    "\n",
    "### Instructions:\n",
    "- Store your list of exons as a list in a variable named `exons`\n",
    "- **Hint**: `exons` should be a list of lists, produced by joining each individual exon, in order of position 1 through 5"
   ],
   "metadata": {
    "deletable": false,
    "editable": false,
    "nbgrader": {
     "cell_type": "markdown",
     "checksum": "1ab8c0b39805d8be1b072202c2ad6734",
     "grade": false,
     "grade_id": "Read_55",
     "locked": true,
     "schema_version": 3,
     "solution": false
    }
   }
  },
  {
   "cell_type": "code",
   "execution_count": 15,
   "source": [
    "exons = [Exon_1, Exon_2, Exon_3, Exon_4, Exon_5]\r\n",
    "print(exons)"
   ],
   "outputs": [
    {
     "output_type": "stream",
     "name": "stdout",
     "text": [
      "[[1, 352], [637, 805], [1128, 1293], [1903, 2142], [3132, 3251]]\n"
     ]
    }
   ],
   "metadata": {
    "deletable": false,
    "nbgrader": {
     "cell_type": "code",
     "checksum": "770f10fbf9209af1edc69dca65684d9d",
     "grade": false,
     "grade_id": "ex7_answer",
     "locked": false,
     "schema_version": 3,
     "solution": true
    }
   }
  },
  {
   "cell_type": "markdown",
   "source": [
    "# `for` loops\r\n",
    "---\r\n",
    "Imagine we wanted to take our list of apes and print out each element on a separate line, like this:\r\n",
    "\r\n",
    "    Homo sapiens is an ape\r\n",
    "    Pan troglodytes is an ape\r\n",
    "    Gorilla gorilla is an ape\r\n",
    "\r\n",
    "One way to do it would be to just print each element separately:"
   ],
   "metadata": {
    "deletable": false,
    "editable": false,
    "nbgrader": {
     "cell_type": "markdown",
     "checksum": "b199adc296e7448384a0854182a61f36",
     "grade": false,
     "grade_id": "Read_56",
     "locked": true,
     "schema_version": 3,
     "solution": false
    }
   }
  },
  {
   "cell_type": "code",
   "execution_count": 71,
   "source": [
    "print(apes[0] + \" is an ape\")\r\n",
    "print(apes[1] + \" is an ape\")\r\n",
    "print(apes[2] + \" is an ape\")"
   ],
   "outputs": [
    {
     "output_type": "stream",
     "name": "stdout",
     "text": [
      "Pan troglodytes is an ape\n",
      "Homo sapiens is an ape\n",
      "Gorilla gorilla is an ape\n"
     ]
    }
   ],
   "metadata": {
    "deletable": false,
    "editable": false,
    "nbgrader": {
     "cell_type": "code",
     "checksum": "97298fea7c25d159a93b950ca500e519",
     "grade": false,
     "grade_id": "Read_57",
     "locked": true,
     "schema_version": 3,
     "solution": false
    }
   }
  },
  {
   "cell_type": "markdown",
   "source": [
    "As you can see, this is very repetitive, tedious, and relies on us knowing the number of elements in the list. What we need is a way to say something along the lines of \"for each element in the list of apes, print out the element, followed by the words ' is an ape'\". Python's loop syntax allows us to express those instructions like this:"
   ],
   "metadata": {
    "deletable": false,
    "editable": false,
    "nbgrader": {
     "cell_type": "markdown",
     "checksum": "59cce471b0b1fee2ebaad00b78b3e2ed",
     "grade": false,
     "grade_id": "Read_58",
     "locked": true,
     "schema_version": 3,
     "solution": false
    }
   }
  },
  {
   "cell_type": "code",
   "execution_count": 72,
   "source": [
    "for ape in apes:\r\n",
    "    print(ape + \" is an ape\")"
   ],
   "outputs": [
    {
     "output_type": "stream",
     "name": "stdout",
     "text": [
      "Pan troglodytes is an ape\n",
      "Homo sapiens is an ape\n",
      "Gorilla gorilla is an ape\n"
     ]
    }
   ],
   "metadata": {
    "deletable": false,
    "editable": false,
    "nbgrader": {
     "cell_type": "code",
     "checksum": "3e8f399873b93cc99d0af8645f85f0fb",
     "grade": false,
     "grade_id": "Read_59",
     "locked": true,
     "schema_version": 3,
     "solution": false
    }
   }
  },
  {
   "cell_type": "markdown",
   "source": [
    "Let's take a moment to look at the different parts of this loop:\n",
    "We start by writing:\n",
    "\n",
    "\n",
    "`for x in y:`\n",
    "\n",
    "`y` is the name of the list we want to process and `x` is a placeholder name we choose to use for the current element each time we go around the loop.\n",
    "\n",
    "`x` is just a variable name here. Usually, the value of a variable doesn't change unless we change it ourselves. In loops, however, we don't set the value directly – instead, every time the loop performs its operation on an element, the value of the placeholder variable (`x` in this case) is set to that element, after which Python does that for each element in the list one after another. The value of `x` therefore changes each time through the loop. So if you have want to apply the same command to all the elments of the list, the command remains the same, but the thing you're doing the command to changes each time. The name of this placeholder variable can be anything you want, but always try to pick something informative so your code is easier to understand!\n",
    "\n",
    "\n",
    "Think of it this way, when I have to mark all your assignments: I am a human `for loop` and my instructions are - for each assignment in the class, mark the assignment. In Python that would look like this: `for assignment in class: mark(assignment)`\n",
    "\n",
    "---\n",
    "### The syntax of a `for` loop\n",
    "---\n",
    "This first line of the loop ends with a colon `:`, and all the lines you want to be included in the loop are indented. Indented lines can start with any number of tab or space characters,but they must all be indented in the same way. This pattern – a line which ends with a colon, followed by some indented lines – is very common in Python, and we'll see it in several more places throughout this course. A group of indented lines is often called a *block* of code. If you don't keep your indentations consistent and correct you will get an `IndentationError`. It will be annoying for a while but these indentations make Python easier to read and avoids using all kinds of brackets to enclose code blocks.\n",
    "\n",
    "In this case, we refer to the indented bock as the body of the loop, and the lines inside it will be executed once for each element in the list. To refer to the current element, we use the variable name that we wrote in the first line. The body of the loop can contain as many lines as we like, and can include all the functions and methods that we've learned about, with one important exception: *we're not allowed to change the list while inside the body of the loop*.\n",
    "\n",
    "Here's an example of a loop with a more complicated body:"
   ],
   "metadata": {
    "deletable": false,
    "editable": false,
    "nbgrader": {
     "cell_type": "markdown",
     "checksum": "728f255bd050e3c3dc3b05ee9fc14767",
     "grade": false,
     "grade_id": "Read_60",
     "locked": true,
     "schema_version": 3,
     "solution": false
    }
   }
  },
  {
   "cell_type": "code",
   "execution_count": 73,
   "source": [
    "apes = [\"Homo sapiens\", \"Pan troglodytes\", \"Gorilla gorilla\"]\r\n",
    "for ape in apes:\r\n",
    "    name_length = len(ape)\r\n",
    "    first_letter = ape[0]\r\n",
    "    print(ape + \" is an ape. Its name starts with \" + first_letter)\r\n",
    "    print(\"Its name has \" + str(name_length) + \" letters\")"
   ],
   "outputs": [
    {
     "output_type": "stream",
     "name": "stdout",
     "text": [
      "Homo sapiens is an ape. Its name starts with H\n",
      "Its name has 12 letters\n",
      "Pan troglodytes is an ape. Its name starts with P\n",
      "Its name has 15 letters\n",
      "Gorilla gorilla is an ape. Its name starts with G\n",
      "Its name has 15 letters\n"
     ]
    }
   ],
   "metadata": {
    "deletable": false,
    "editable": false,
    "nbgrader": {
     "cell_type": "code",
     "checksum": "066ef2f83b795deeb1cdb80e4d4bc842",
     "grade": false,
     "grade_id": "Read_61",
     "locked": true,
     "schema_version": 3,
     "solution": false
    }
   }
  },
  {
   "cell_type": "markdown",
   "source": [
    "The body of the loop in the code above has four statements, two of which are `print()` statements, so each time round the loop we'll get two lines of output. If we look at the output we can see all six lines:\n",
    "\n",
    "    Homo sapiens is an ape. Its name starts with H\n",
    "    Its name has 12 letters\n",
    "    Pan troglodytes is an ape. Its name starts with P\n",
    "    Its name has 15 letters\n",
    "    Gorilla gorilla is an ape. Its name starts with G\n",
    "    Its name has 15 letters\n",
    "\n",
    "Why is the above approach better than printing out these six lines in six separate statements? Well, for one thing, there's much less redundancy – here we only needed to write two `print()` statements. This also means that if we need to make a change to the code, we only have to make it once rather than three separate times. Another benefit of using a loop here is that if we want to add some elements to the list, we don't have to touch the loop code at all. Consequently, it doesn't matter how many elements are in the list, and it's not a problem if we don't know how many are going to be in it at the time when we write the code."
   ],
   "metadata": {
    "deletable": false,
    "editable": false,
    "nbgrader": {
     "cell_type": "markdown",
     "checksum": "f99c768c41495381d8cd74eebfb8a308",
     "grade": false,
     "grade_id": "Read_62",
     "locked": true,
     "schema_version": 3,
     "solution": false
    }
   }
  },
  {
   "cell_type": "markdown",
   "source": [
    "## Exercise 8: Splice your gene\n",
    "When mRNA is transcribed from the chromosome, it briefly includes not only the exons with the protein coding information - but the introns as well. The genes you have include both exons and introns. In this challenge I want you to be the spliceosome! Use the exon coordinates (`exons`) to extract the exons and splice (join) them together to make a protein coding gene! \n",
    "\n",
    "*Do not reverse complement the sequence - in bioinformatics the strand of DNA with the coding sequence on it is usually reported so that you can see the gene sequence from 5' to 3'*\n",
    "\n",
    "### Instructions:\n",
    "- Store your spliced gene as a string in a variable named `spliced_gene`\n",
    "- **Hints**\n",
    "    1. If you want to practice being good at coding use a *for loop* involving your list of exon coordinates from above\n",
    "    2. You can add onto the end of a string to make it grow. You do that like this:\n",
    "        `my_string = my_string + new_stuff`\n",
    "    3. The exon boundaries at the top of this document were in the usual 'Human readable' form which starts counting from 1 and includes the last number. Don't forget that indices in Python start from 0, include the start and exclude the end.\n"
   ],
   "metadata": {
    "deletable": false,
    "editable": false,
    "nbgrader": {
     "cell_type": "markdown",
     "checksum": "a1901ef0fc94d33fc0b1d027ddb6f67f",
     "grade": false,
     "grade_id": "Read_63",
     "locked": true,
     "schema_version": 3,
     "solution": false
    }
   }
  },
  {
   "cell_type": "code",
   "execution_count": 5,
   "source": [
    "spliced_gene = my_gene[0:352]\r\n",
    "spliced_gene = spliced_gene + my_gene[636:805]\r\n",
    "spliced_gene = spliced_gene + my_gene[1127:1293]\r\n",
    "spliced_gene = spliced_gene + my_gene[1902:2142]\r\n",
    "spliced_gene = spliced_gene + my_gene[3131:3251]\r\n",
    "print(spliced_gene)"
   ],
   "outputs": [
    {
     "output_type": "stream",
     "name": "stdout",
     "text": [
      "ATGAGAAAAATGTCGGAGGAAGAGTTTTATCTGTTCAAAAATATCTCTTCAGTGGGGCCGTGGGATGGGCCTCAGTACCACATTGCCCCTGTCTGGGCCTTCTACCTCCAGGCAGCTTTCATGGGCACTGTCTTCCTTATAGGGTTCCCACTCAATGCCATGGTGCTGGTGGCCACACTGCGCTACAAAAAGTTGCGGCAGCCCCTCAACTACATTCTGGTCAACGTGTCCTTCGGAGGCTTCCTCCTCTGCATCTTCTCTGTCTTCCCTGTCTTCGTCGCCAGCTGTAACGGATACTTCGTCTTCGGTCGCCATGTTTGTGCTTTGGAGGGCTTCCTGGGCACTGTAGCAGGTCTGGTTACAGGATGGTCACTGGCCTTCCTGGCCTTTGAGCGCTACATTGTCATCTGTAAGCCCTTCGGCAACTTCCGCTTCAGCTCCAAGCATGCACTGACGGTGGTCCTGGCTACCTGGACCATTGGTATTGGCGTCTCCATCCCACCCTTCTTTGGCTGGAGCCGGTTCATCCCTGAGGGCCTGCAGTGTTCCTGTGGCCCTGACTGGTACACCGTGGGCACCAAATACCGCAGCGAGTCCTATACGTGGTTCCTCTTCATCTTCTGCTTCATTGTGCCTCTCTCCCTCATCTGCTTCTCCTACACTCAGCTGCTGAGGGCCCTGAAAGCTGTTGCAGCTCAGCAGCAGGAGTCAGCTACGACCCAGAAGGCTGAACGGGAGGTGAGCCGCATGGTGGTTGTGATGGTAGGATCCTTCTGTGTCTGCTACGTGCCCTACGCGGCCTTCGCCATGTACATGGTCAACAACCGTAACCATGGGCTGGACTTACGGCTTGTCACCATTCCTTCATTCTTCTCCAAGAGTGCTTGCATCTACAATCCCATCATCTACTGCTTCATGAATAAGCAGTTCCAAGCTTGCATCATGAAGATGGTGTGTGGGAAGGCCATGACAGATGAATCCGACACATGCAGCTCCCAGAAAACAGAAGTTTCTACTGTCTCGTCTACCCAAGTTGGCCCCAACTGA\n"
     ]
    }
   ],
   "metadata": {
    "deletable": false,
    "nbgrader": {
     "cell_type": "code",
     "checksum": "2467a0c9d8b4f581c8d9c2e42b59c858",
     "grade": false,
     "grade_id": "ex8_answer",
     "locked": false,
     "schema_version": 3,
     "solution": true
    },
    "scrolled": true
   }
  },
  {
   "cell_type": "code",
   "execution_count": 29,
   "source": [
    "# or an alternative (and shorter) method:\r\n",
    "\r\n",
    "spliced_gene = \"\"\r\n",
    "for exon in exons:\r\n",
    "    spliced_gene = spliced_gene + my_gene[exon[0]-1:exon[1]]\r\n",
    "    \r\n",
    "print(spliced_gene)"
   ],
   "outputs": [
    {
     "output_type": "stream",
     "name": "stdout",
     "text": [
      "ATGAGAAAAATGTCGGAGGAAGAGTTTTATCTGTTCAAAAATATCTCTTCAGTGGGGCCGTGGGATGGGCCTCAGTACCACATTGCCCCTGTCTGGGCCTTCTACCTCCAGGCAGCTTTCATGGGCACTGTCTTCCTTATAGGGTTCCCACTCAATGCCATGGTGCTGGTGGCCACACTGCGCTACAAAAAGTTGCGGCAGCCCCTCAACTACATTCTGGTCAACGTGTCCTTCGGAGGCTTCCTCCTCTGCATCTTCTCTGTCTTCCCTGTCTTCGTCGCCAGCTGTAACGGATACTTCGTCTTCGGTCGCCATGTTTGTGCTTTGGAGGGCTTCCTGGGCACTGTAGCAGGTCTGGTTACAGGATGGTCACTGGCCTTCCTGGCCTTTGAGCGCTACATTGTCATCTGTAAGCCCTTCGGCAACTTCCGCTTCAGCTCCAAGCATGCACTGACGGTGGTCCTGGCTACCTGGACCATTGGTATTGGCGTCTCCATCCCACCCTTCTTTGGCTGGAGCCGGTTCATCCCTGAGGGCCTGCAGTGTTCCTGTGGCCCTGACTGGTACACCGTGGGCACCAAATACCGCAGCGAGTCCTATACGTGGTTCCTCTTCATCTTCTGCTTCATTGTGCCTCTCTCCCTCATCTGCTTCTCCTACACTCAGCTGCTGAGGGCCCTGAAAGCTGTTGCAGCTCAGCAGCAGGAGTCAGCTACGACCCAGAAGGCTGAACGGGAGGTGAGCCGCATGGTGGTTGTGATGGTAGGATCCTTCTGTGTCTGCTACGTGCCCTACGCGGCCTTCGCCATGTACATGGTCAACAACCGTAACCATGGGCTGGACTTACGGCTTGTCACCATTCCTTCATTCTTCTCCAAGAGTGCTTGCATCTACAATCCCATCATCTACTGCTTCATGAATAAGCAGTTCCAAGCTTGCATCATGAAGATGGTGTGTGGGAAGGCCATGACAGATGAATCCGACACATGCAGCTCCCAGAAAACAGAAGTTTCTACTGTCTCGTCTACCCAAGTTGGCCCCAACTGA\n"
     ]
    }
   ],
   "metadata": {}
  },
  {
   "cell_type": "markdown",
   "source": [
    "---\n",
    "# Practice Problems\n",
    "---\n",
    "Here I will give you some practice problems that use the data and code that you know already. It will give you a chance to practice for the exams. I also recommend doing these by yourself to find out if you have what it takes to code alone. If you peak at the answers it will only make you do worse. \n",
    "\n",
    "I don't provide an answer key to these questions. If you want to post your answers in the BIO362 discussion forum that's fine by me!\n",
    "\n",
    "1. Assign your full name to a variable in lower case. Alter the full name to be properly capitalized (Easy)\n",
    "2. Find out how many stop codons could arise in your spliced gene from exercise 8 if the gene was transcribed in the wrong reading frame? (Easy)\n",
    "3. What are 3 ways you could check that a complete spliced genes was transcribed correctly? (Medium)\n",
    "4. Use your exons to extract all the introns (Medium)\n",
    "5. Do you notice anything about the first two and last two bases of the introns? Look up the answer with google.\n",
    "6. If you digest your gene with the restriction enzyme 'GGCC' what size are the bands that will result? \n",
    "7. Write a for loop to calculate the length of each exon in my_gene\n",
    "8. Write a for loop that calculates the GC content of each exon in my_gene\n",
    "9. Compare the GC content of the introns to the exons - google the biological reason why the two may differ!\n",
    "10. Go on the discussion forum and post the hardest practice problem you can think of that uses today's data and code!\n",
    "\n",
    "\n"
   ],
   "metadata": {
    "deletable": false,
    "editable": false,
    "nbgrader": {
     "cell_type": "markdown",
     "checksum": "ebe114a1b2a8ff735ebeadee35d0f835",
     "grade": false,
     "grade_id": "cell-9c5b38f472a6f0ac",
     "locked": true,
     "schema_version": 3,
     "solution": false
    }
   }
  }
 ],
 "metadata": {
  "orig_nbformat": 4,
  "language_info": {
   "name": "python"
  }
 },
 "nbformat": 4,
 "nbformat_minor": 2
}